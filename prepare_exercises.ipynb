{
 "cells": [
  {
   "cell_type": "markdown",
   "id": "bfc6ca67",
   "metadata": {},
   "source": [
    "# Prepare Exercises"
   ]
  },
  {
   "cell_type": "code",
   "execution_count": 7,
   "id": "6de58507",
   "metadata": {},
   "outputs": [],
   "source": [
    "import unicodedata\n",
    "import re\n",
    "import json\n",
    "\n",
    "import nltk\n",
    "from nltk.tokenize.toktok import ToktokTokenizer\n",
    "from nltk.corpus import stopwords\n",
    "\n",
    "import pandas as pd\n",
    "import acquire\n",
    "from time import strftime\n",
    "\n",
    "import warnings\n",
    "warnings.filterwarnings('ignore')\n",
    "import acquire"
   ]
  },
  {
   "cell_type": "code",
   "execution_count": 3,
   "id": "d8359b45",
   "metadata": {},
   "outputs": [
    {
     "name": "stderr",
     "output_type": "stream",
     "text": [
      "/Users/kanieladenis/codeup-data-science/natural_language_processing_exercises/acquire.py:15: GuessedAtParserWarning: No parser was explicitly specified, so I'm using the best available HTML parser for this system (\"lxml\"). This usually isn't a problem, but if you run this code on another system, or in a different virtual environment, it may use a different parser and behave differently.\n",
      "\n",
      "The code that caused this warning is on line 15 of the file /Users/kanieladenis/codeup-data-science/natural_language_processing_exercises/acquire.py. To get rid of this warning, pass the additional argument 'features=\"lxml\"' to the BeautifulSoup constructor.\n",
      "\n",
      "  soup = BeautifulSoup(response.text)\n",
      "/Users/kanieladenis/codeup-data-science/natural_language_processing_exercises/acquire.py:22: GuessedAtParserWarning: No parser was explicitly specified, so I'm using the best available HTML parser for this system (\"lxml\"). This usually isn't a problem, but if you run this code on another system, or in a different virtual environment, it may use a different parser and behave differently.\n",
      "\n",
      "The code that caused this warning is on line 22 of the file /Users/kanieladenis/codeup-data-science/natural_language_processing_exercises/acquire.py. To get rid of this warning, pass the additional argument 'features=\"lxml\"' to the BeautifulSoup constructor.\n",
      "\n",
      "  soup = BeautifulSoup(response.text)\n"
     ]
    },
    {
     "data": {
      "text/html": [
       "<div>\n",
       "<style scoped>\n",
       "    .dataframe tbody tr th:only-of-type {\n",
       "        vertical-align: middle;\n",
       "    }\n",
       "\n",
       "    .dataframe tbody tr th {\n",
       "        vertical-align: top;\n",
       "    }\n",
       "\n",
       "    .dataframe thead th {\n",
       "        text-align: right;\n",
       "    }\n",
       "</style>\n",
       "<table border=\"1\" class=\"dataframe\">\n",
       "  <thead>\n",
       "    <tr style=\"text-align: right;\">\n",
       "      <th></th>\n",
       "      <th>title</th>\n",
       "      <th>published</th>\n",
       "      <th>content</th>\n",
       "    </tr>\n",
       "  </thead>\n",
       "  <tbody>\n",
       "    <tr>\n",
       "      <th>0</th>\n",
       "      <td>Codeup Dallas Open House</td>\n",
       "      <td>Nov 30, 2021</td>\n",
       "      <td>Come join us for the re-opening of our Dallas ...</td>\n",
       "    </tr>\n",
       "    <tr>\n",
       "      <th>1</th>\n",
       "      <td>Codeup’s Placement Team Continues Setting Records</td>\n",
       "      <td>Nov 19, 2021</td>\n",
       "      <td>Our Placement Team is simply defined as a grou...</td>\n",
       "    </tr>\n",
       "    <tr>\n",
       "      <th>2</th>\n",
       "      <td>IT Certifications 101: Why They Matter, and Wh...</td>\n",
       "      <td>Nov 18, 2021</td>\n",
       "      <td>AWS, Google, Azure, Red Hat, CompTIA…these are...</td>\n",
       "    </tr>\n",
       "    <tr>\n",
       "      <th>3</th>\n",
       "      <td>A rise in cyber attacks means opportunities fo...</td>\n",
       "      <td>Nov 17, 2021</td>\n",
       "      <td>In the last few months, the US has experienced...</td>\n",
       "    </tr>\n",
       "    <tr>\n",
       "      <th>4</th>\n",
       "      <td>Use your GI Bill® benefits to Land a Job in Tech</td>\n",
       "      <td>Nov 4, 2021</td>\n",
       "      <td>As the end of military service gets closer, ma...</td>\n",
       "    </tr>\n",
       "  </tbody>\n",
       "</table>\n",
       "</div>"
      ],
      "text/plain": [
       "                                               title     published  \\\n",
       "0                           Codeup Dallas Open House  Nov 30, 2021   \n",
       "1  Codeup’s Placement Team Continues Setting Records  Nov 19, 2021   \n",
       "2  IT Certifications 101: Why They Matter, and Wh...  Nov 18, 2021   \n",
       "3  A rise in cyber attacks means opportunities fo...  Nov 17, 2021   \n",
       "4   Use your GI Bill® benefits to Land a Job in Tech   Nov 4, 2021   \n",
       "\n",
       "                                             content  \n",
       "0  Come join us for the re-opening of our Dallas ...  \n",
       "1  Our Placement Team is simply defined as a grou...  \n",
       "2  AWS, Google, Azure, Red Hat, CompTIA…these are...  \n",
       "3  In the last few months, the US has experienced...  \n",
       "4  As the end of military service gets closer, ma...  "
      ]
     },
     "execution_count": 3,
     "metadata": {},
     "output_type": "execute_result"
    }
   ],
   "source": [
    "df = acquire.get_blog_articles()\n",
    "df.head()"
   ]
  },
  {
   "cell_type": "markdown",
   "id": "4cbefc97",
   "metadata": {},
   "source": [
    "1. Define a function named basic_clean. It should take in a string and apply some basic text cleaning to it:\n",
    "\n",
    "Lowercase everything\n",
    "Normalize unicode characters\n",
    "Replace anything that is not a letter, number, whitespace or a single quote.\n",
    "Define a function named tokenize. It should take in a string and tokenize all the words in the string."
   ]
  },
  {
   "cell_type": "code",
   "execution_count": 5,
   "id": "4832b638",
   "metadata": {},
   "outputs": [
    {
     "name": "stdout",
     "output_type": "stream",
     "text": [
      "come join us for the re-opening of our dallas campus with some drinks and snacks at codeup! curious about what our campus looks like? click here to register for free\n",
      "about this event\n",
      "come join us for the re-opening of our dallas campus with some drinks and snacks at codeup!\n",
      "curious about what our campus looks like? interested in our web development career accelerator? keen to chat with an instructor or financial aid rep?\n",
      "at our open house, we are here to answer all your questions!\n",
      "meet a codeup instructor, who can help explain what’s taught in our classes and answer questions.\n",
      "understand how to join one of our upcoming cohort ( dec. 6th).\n",
      "don’t miss this opportunity to learn more about how you can start the new year transitioning into a new, exciting career in tech. we’re here to answer any questions you may have about codeup and your future.\n",
      "take the first step of your new career today and create your tomorrow!\n"
     ]
    }
   ],
   "source": [
    "# lower case string\n",
    "article = df.content[0].lower()\n",
    "print(article)"
   ]
  },
  {
   "cell_type": "code",
   "execution_count": 8,
   "id": "56917b29",
   "metadata": {},
   "outputs": [
    {
     "name": "stdout",
     "output_type": "stream",
     "text": [
      "come join us for the re-opening of our dallas campus with some drinks and snacks at codeup! curious about what our campus looks like? click here to register for free\n",
      "about this event\n",
      "come join us for the re-opening of our dallas campus with some drinks and snacks at codeup!\n",
      "curious about what our campus looks like? interested in our web development career accelerator? keen to chat with an instructor or financial aid rep?\n",
      "at our open house, we are here to answer all your questions!\n",
      "meet a codeup instructor, who can help explain whats taught in our classes and answer questions.\n",
      "understand how to join one of our upcoming cohort ( dec. 6th).\n",
      "dont miss this opportunity to learn more about how you can start the new year transitioning into a new, exciting career in tech. were here to answer any questions you may have about codeup and your future.\n",
      "take the first step of your new career today and create your tomorrow!\n"
     ]
    }
   ],
   "source": [
    "# Remove accented characters / non-ASCII characters to standarize to ASCII\n",
    "article = unicodedata.normalize('NFKD', article)\\\n",
    "    .encode('ascii', 'ignore')\\\n",
    "    .decode('utf-8', 'ignore')\n",
    "\n",
    "print(article)"
   ]
  },
  {
   "cell_type": "code",
   "execution_count": 9,
   "id": "93a26c35",
   "metadata": {},
   "outputs": [
    {
     "name": "stdout",
     "output_type": "stream",
     "text": [
      "come join us for the reopening of our dallas campus with some drinks and snacks at codeup curious about what our campus looks like click here to register for free\n",
      "about this event\n",
      "come join us for the reopening of our dallas campus with some drinks and snacks at codeup\n",
      "curious about what our campus looks like interested in our web development career accelerator keen to chat with an instructor or financial aid rep\n",
      "at our open house we are here to answer all your questions\n",
      "meet a codeup instructor who can help explain whats taught in our classes and answer questions\n",
      "understand how to join one of our upcoming cohort  dec 6th\n",
      "dont miss this opportunity to learn more about how you can start the new year transitioning into a new exciting career in tech were here to answer any questions you may have about codeup and your future\n",
      "take the first step of your new career today and create your tomorrow\n"
     ]
    }
   ],
   "source": [
    "# Remove Special Characters (anything that is not a through z, a number, a single quote, or whitespace)\n",
    "article = re.sub(r\"[^a-z0-9'\\s]\", '', article)\n",
    "print(article)"
   ]
  },
  {
   "cell_type": "code",
   "execution_count": 11,
   "id": "bddcffa5",
   "metadata": {},
   "outputs": [
    {
     "name": "stdout",
     "output_type": "stream",
     "text": [
      "come join us for the reopening of our dallas campus with some drinks and snacks at codeup curious about what our campus looks like click here to register for free\n",
      "about this event\n",
      "come join us for the reopening of our dallas campus with some drinks and snacks at codeup\n",
      "curious about what our campus looks like interested in our web development career accelerator keen to chat with an instructor or financial aid rep\n",
      "at our open house we are here to answer all your questions\n",
      "meet a codeup instructor who can help explain whats taught in our classes and answer questions\n",
      "understand how to join one of our upcoming cohort dec 6th\n",
      "dont miss this opportunity to learn more about how you can start the new year transitioning into a new exciting career in tech were here to answer any questions you may have about codeup and your future\n",
      "take the first step of your new career today and create your tomorrow\n"
     ]
    }
   ],
   "source": [
    "# Tolkenize String\n",
    "tokenizer = nltk.tokenize.ToktokTokenizer()\n",
    "\n",
    "print(tokenizer.tokenize(article, return_str=True))"
   ]
  },
  {
   "cell_type": "markdown",
   "id": "8c03753e",
   "metadata": {},
   "source": [
    "2. Define a function named stem. It should accept some text and return the text after applying stemming to all the words."
   ]
  },
  {
   "cell_type": "code",
   "execution_count": 13,
   "id": "9b72cb71",
   "metadata": {},
   "outputs": [
    {
     "name": "stdout",
     "output_type": "stream",
     "text": [
      "come join us for the reopen of our dalla campu with some drink and snack at codeup curiou about what our campu look like click here to regist for free about thi event come join us for the reopen of our dalla campu with some drink and snack at codeup curiou about what our campu look like interest in our web develop career acceler keen to chat with an instructor or financi aid rep at our open hous we are here to answer all your question meet a codeup instructor who can help explain what taught in our class and answer question understand how to join one of our upcom cohort dec 6th dont miss thi opportun to learn more about how you can start the new year transit into a new excit career in tech were here to answer ani question you may have about codeup and your futur take the first step of your new career today and creat your tomorrow\n"
     ]
    }
   ],
   "source": [
    "# Create the nltk stemmer object. Split article by space, apply stem to each word, tehn rejoin each work to one string\n",
    "ps = nltk.porter.PorterStemmer()\n",
    "stems = [ps.stem(word) for word in article.split()]\n",
    "article_stemmed = ' '.join(stems)\n",
    "print(article_stemmed)"
   ]
  },
  {
   "cell_type": "code",
   "execution_count": 14,
   "id": "d858b915",
   "metadata": {},
   "outputs": [
    {
     "data": {
      "text/plain": [
       "0          come\n",
       "1          join\n",
       "2            us\n",
       "3           for\n",
       "4           the\n",
       "         ...   \n",
       "158       today\n",
       "159         and\n",
       "160       creat\n",
       "161        your\n",
       "162    tomorrow\n",
       "Length: 163, dtype: object"
      ]
     },
     "execution_count": 14,
     "metadata": {},
     "output_type": "execute_result"
    }
   ],
   "source": [
    "# Turn string into series\n",
    "pd.Series(stems)"
   ]
  },
  {
   "cell_type": "code",
   "execution_count": 15,
   "id": "94865bba",
   "metadata": {},
   "outputs": [
    {
     "data": {
      "text/plain": [
       "our       8\n",
       "to        6\n",
       "and       5\n",
       "about     5\n",
       "your      4\n",
       "of        4\n",
       "the       4\n",
       "codeup    4\n",
       "campu     4\n",
       "answer    3\n",
       "dtype: int64"
      ]
     },
     "execution_count": 15,
     "metadata": {},
     "output_type": "execute_result"
    }
   ],
   "source": [
    "# Apply value count to series\n",
    "pd.Series(stems).value_counts().head(10)"
   ]
  },
  {
   "cell_type": "markdown",
   "id": "e66bad71",
   "metadata": {},
   "source": [
    "3. Define a function named lemmatize. It should accept some text and return the text after applying lemmatization to each word."
   ]
  },
  {
   "cell_type": "code",
   "execution_count": 16,
   "id": "e0289afa",
   "metadata": {},
   "outputs": [
    {
     "name": "stdout",
     "output_type": "stream",
     "text": [
      "come join u for the reopening of our dallas campus with some drink and snack at codeup curious about what our campus look like click here to register for free about this event come join u for the reopening of our dallas campus with some drink and snack at codeup curious about what our campus look like interested in our web development career accelerator keen to chat with an instructor or financial aid rep at our open house we are here to answer all your question meet a codeup instructor who can help explain whats taught in our class and answer question understand how to join one of our upcoming cohort dec 6th dont miss this opportunity to learn more about how you can start the new year transitioning into a new exciting career in tech were here to answer any question you may have about codeup and your future take the first step of your new career today and create your tomorrow\n"
     ]
    }
   ],
   "source": [
    "# Create the  Lemmatizer Oject\n",
    "wnl = nltk.stem.WordNetLemmatizer()\n",
    "\n",
    "# split artice by space to make list, apply lemmatizer to each work in list\n",
    "lemmas = [wnl.lemmatize(word) for word in article.split()]\n",
    "\n",
    "# join each work in list back to string\n",
    "article_lemmatized = ' '.join(lemmas)\n",
    "\n",
    "print(article_lemmatized)"
   ]
  },
  {
   "cell_type": "code",
   "execution_count": 17,
   "id": "42410cb5",
   "metadata": {},
   "outputs": [
    {
     "data": {
      "text/plain": [
       "our       8\n",
       "to        6\n",
       "about     5\n",
       "and       5\n",
       "your      4\n",
       "campus    4\n",
       "codeup    4\n",
       "the       4\n",
       "of        4\n",
       "join      3\n",
       "dtype: int64"
      ]
     },
     "execution_count": 17,
     "metadata": {},
     "output_type": "execute_result"
    }
   ],
   "source": [
    "# make string into series and apply value_counts\n",
    "pd.Series(lemmas).value_counts()[:10]"
   ]
  },
  {
   "cell_type": "markdown",
   "id": "c88d2ade",
   "metadata": {},
   "source": [
    "4. Define a function named remove_stopwords. It should accept some text and return the text after removing all the stopwords."
   ]
  },
  {
   "cell_type": "code",
   "execution_count": 18,
   "id": "7c7d20d2",
   "metadata": {},
   "outputs": [
    {
     "name": "stdout",
     "output_type": "stream",
     "text": [
      "come join us reopening dallas campus drinks snacks codeup curious campus looks like click register free event come join us reopening dallas campus drinks snacks codeup curious campus looks like interested web development career accelerator keen chat instructor financial aid rep open house answer questions meet codeup instructor help explain whats taught classes answer questions understand join one upcoming cohort dec 6th dont miss opportunity learn start new year transitioning new exciting career tech answer questions may codeup future take first step new career today create tomorrow\n"
     ]
    }
   ],
   "source": [
    "# create stop worlist\n",
    "stopword_list = stopwords.words('english')\n",
    "\n",
    "# create list of words in article\n",
    "words = article.split()\n",
    "\n",
    "# return list of words that are not in stopword_list\n",
    "filtered_words = [w for w in words if w not in stopword_list]\n",
    "\n",
    "# join list of words to make string\n",
    "article_without_stopwords = ' '.join(filtered_words)\n",
    "\n",
    "print(article_without_stopwords)\n"
   ]
  },
  {
   "cell_type": "markdown",
   "id": "8502a8c5",
   "metadata": {},
   "source": [
    "5. This function should define two optional parameters, extra_words and exclude_words. These parameters should define any additional stop words to include, and any words that we don't want to remove."
   ]
  },
  {
   "cell_type": "code",
   "execution_count": null,
   "id": "4355dacf",
   "metadata": {},
   "outputs": [],
   "source": []
  },
  {
   "cell_type": "markdown",
   "id": "2e5074fa",
   "metadata": {},
   "source": [
    "6. Use your data from the acquire to produce a dataframe of the news articles. Name the dataframe news_df"
   ]
  },
  {
   "cell_type": "code",
   "execution_count": null,
   "id": "bf39169b",
   "metadata": {},
   "outputs": [],
   "source": []
  },
  {
   "cell_type": "markdown",
   "id": "048e6c61",
   "metadata": {},
   "source": [
    "7. Make another dataframe for the Codeup blog posts. Name the dataframe codeup_df."
   ]
  },
  {
   "cell_type": "code",
   "execution_count": null,
   "id": "38a0c15d",
   "metadata": {},
   "outputs": [],
   "source": []
  },
  {
   "cell_type": "markdown",
   "id": "61dcb1dc",
   "metadata": {},
   "source": [
    "8. For each dataframe, produce the following columns:\n",
    "\n",
    "title to hold the title\n",
    "original to hold the original article/post content\n",
    "clean to hold the normalized and tokenized original with the stopwords removed.\n",
    "stemmed to hold the stemmed version of the cleaned data.\n",
    "lemmatized to hold the lemmatized version of the cleaned data."
   ]
  },
  {
   "cell_type": "code",
   "execution_count": null,
   "id": "072adcfa",
   "metadata": {},
   "outputs": [],
   "source": []
  },
  {
   "cell_type": "markdown",
   "id": "6a97b514",
   "metadata": {},
   "source": [
    "9. Ask yourself:\n",
    "\n",
    "If your corpus is 493KB, would you prefer to use stemmed or lemmatized text?\n",
    "If your corpus is 25MB, would you prefer to use stemmed or lemmatized text?\n",
    "If your corpus is 200TB of text and you're charged by the megabyte for your hosted computational resources, would you prefer to use stemmed or lemmatized text?"
   ]
  }
 ],
 "metadata": {
  "kernelspec": {
   "display_name": "Python 3",
   "language": "python",
   "name": "python3"
  },
  "language_info": {
   "codemirror_mode": {
    "name": "ipython",
    "version": 3
   },
   "file_extension": ".py",
   "mimetype": "text/x-python",
   "name": "python",
   "nbconvert_exporter": "python",
   "pygments_lexer": "ipython3",
   "version": "3.8.8"
  }
 },
 "nbformat": 4,
 "nbformat_minor": 5
}
