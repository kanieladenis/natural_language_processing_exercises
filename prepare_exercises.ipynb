{
 "cells": [
  {
   "cell_type": "markdown",
   "id": "bfc6ca67",
   "metadata": {},
   "source": [
    "# Prepare Exercises"
   ]
  },
  {
   "cell_type": "markdown",
   "id": "4cbefc97",
   "metadata": {},
   "source": []
  },
  {
   "cell_type": "markdown",
   "id": "0e9ce33d",
   "metadata": {},
   "source": []
  },
  {
   "cell_type": "markdown",
   "id": "8c03753e",
   "metadata": {},
   "source": []
  },
  {
   "cell_type": "markdown",
   "id": "e66bad71",
   "metadata": {},
   "source": []
  },
  {
   "cell_type": "markdown",
   "id": "c88d2ade",
   "metadata": {},
   "source": []
  }
 ],
 "metadata": {
  "kernelspec": {
   "display_name": "Python 3",
   "language": "python",
   "name": "python3"
  },
  "language_info": {
   "codemirror_mode": {
    "name": "ipython",
    "version": 3
   },
   "file_extension": ".py",
   "mimetype": "text/x-python",
   "name": "python",
   "nbconvert_exporter": "python",
   "pygments_lexer": "ipython3",
   "version": "3.8.8"
  }
 },
 "nbformat": 4,
 "nbformat_minor": 5
}
