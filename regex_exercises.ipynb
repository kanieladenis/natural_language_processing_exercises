{
 "cells": [
  {
   "cell_type": "markdown",
   "id": "9a6d008c",
   "metadata": {},
   "source": [
    "# Regex Exercises"
   ]
  },
  {
   "cell_type": "code",
   "execution_count": 1,
   "id": "e5a6f59f",
   "metadata": {},
   "outputs": [],
   "source": [
    "import pandas as pd\n",
    "import numpy as np\n",
    "import re"
   ]
  },
  {
   "cell_type": "markdown",
   "id": "bbfe3c54",
   "metadata": {},
   "source": [
    "1. Write a function named is_vowel. It should accept a string as input and use a regular expression to determine if the passed string is a vowel. While not explicity mentioned in the lesson, you can treat the result of re.search as a boolean value that indicates whether or not the regular expression matches the given string."
   ]
  },
  {
   "cell_type": "code",
   "execution_count": 28,
   "id": "bf719e71",
   "metadata": {
    "scrolled": true
   },
   "outputs": [],
   "source": [
    "string = 'b'\n",
    "re.search(r\"^[aeiou]{1}$\", string, re.IGNORECASE)"
   ]
  },
  {
   "cell_type": "code",
   "execution_count": 15,
   "id": "ea807fbd",
   "metadata": {},
   "outputs": [
    {
     "data": {
      "text/plain": [
       "<re.Match object; span=(0, 1), match='a'>"
      ]
     },
     "execution_count": 15,
     "metadata": {},
     "output_type": "execute_result"
    }
   ],
   "source": [
    "match = re.search(r\"^[aeiou]{1}$\", string, re.IGNORECASE)\n",
    "match"
   ]
  },
  {
   "cell_type": "code",
   "execution_count": 29,
   "id": "3f808a24",
   "metadata": {},
   "outputs": [
    {
     "data": {
      "text/plain": [
       "False"
      ]
     },
     "execution_count": 29,
     "metadata": {},
     "output_type": "execute_result"
    }
   ],
   "source": [
    "bool(re.search(r\"^[aeiou]{1}$\", string, re.IGNORECASE))"
   ]
  },
  {
   "cell_type": "code",
   "execution_count": 30,
   "id": "7b235c4a",
   "metadata": {},
   "outputs": [],
   "source": [
    "# re.search looking for a single vowel and return true\n",
    "def is_vowel(str):\n",
    "    '''\n",
    "    '''\n",
    "    return bool(re.search(r\"^[aeiou]{1}$\", string, re.IGNORECASE))"
   ]
  },
  {
   "cell_type": "code",
   "execution_count": 33,
   "id": "32e146a3",
   "metadata": {},
   "outputs": [
    {
     "data": {
      "text/plain": [
       "False"
      ]
     },
     "execution_count": 33,
     "metadata": {},
     "output_type": "execute_result"
    }
   ],
   "source": [
    "is_vowel('adf')"
   ]
  },
  {
   "cell_type": "markdown",
   "id": "67ccbf63",
   "metadata": {},
   "source": [
    "2. Write a function named is_valid_username that accepts a string as input. A valid username \n",
    "- starts with a lowercase letter, \n",
    "- and only consists of lowercase letters, numbers, or the _ character.\n",
    "- It should also be no longer than 32 characters. \n",
    "- The function should return either True or False depending on whether the passed string is a valid username.\n",
    "\n",
    ">>> is_valid_username('aaaaaaaaaaaaaaaaaaaaaaaaaaaaaaaaa')\n",
    "False\n",
    ">>> is_valid_username('codeup')\n",
    "True\n",
    ">>> is_valid_username('Codeup')\n",
    "False\n",
    ">>> is_valid_username('codeup123')\n",
    "True\n",
    ">>> is_valid_username('1codeup')\n",
    "False\n"
   ]
  },
  {
   "cell_type": "code",
   "execution_count": 73,
   "id": "098e48e1",
   "metadata": {},
   "outputs": [
    {
     "data": {
      "text/plain": [
       "<re.Match object; span=(0, 30), match='a23456789012345678901234567890'>"
      ]
     },
     "execution_count": 73,
     "metadata": {},
     "output_type": "execute_result"
    }
   ],
   "source": [
    "s = 'a23456789012345678901234567890'\n",
    "\n",
    "username = r\"^[a-z][a-z0-9_]{,31}$\"\n",
    "\n",
    "re.search(username, s)"
   ]
  },
  {
   "cell_type": "code",
   "execution_count": 74,
   "id": "9b14e1b6",
   "metadata": {},
   "outputs": [],
   "source": [
    "def is_valid_username(username):\n",
    "    '''\n",
    "    This function takes a username string and checks for format requirements\n",
    "    first character is lower letter\n",
    "    Next 31 characters are lowercase letter, number, or underscore\n",
    "    '''\n",
    "    pattern = r\"^[a-z][a-z0-9_]{,31}$\"\n",
    "    return bool(re.search(pattern, username))"
   ]
  },
  {
   "cell_type": "code",
   "execution_count": 80,
   "id": "87b6097d",
   "metadata": {},
   "outputs": [
    {
     "data": {
      "text/plain": [
       "False"
      ]
     },
     "execution_count": 80,
     "metadata": {},
     "output_type": "execute_result"
    }
   ],
   "source": [
    "is_valid_username('a23456789012345678901234567890123')"
   ]
  },
  {
   "cell_type": "code",
   "execution_count": 76,
   "id": "6b778760",
   "metadata": {},
   "outputs": [],
   "source": [
    "# test function\n",
    "assert is_valid_username('aaaaaaaaaaaaaaaaaaaaaaaaaaaaaaaaa') == False\n",
    "assert is_valid_username('codeup') == True\n",
    "assert is_valid_username('Codeup') == False\n",
    "assert is_valid_username('codeup123') == True\n",
    "assert is_valid_username('1codeup')== False"
   ]
  },
  {
   "cell_type": "markdown",
   "id": "042f5159",
   "metadata": {},
   "source": [
    "3. Write a regular expression to capture phone numbers. It should match all of the following:\n",
    "\n",
    "(210) 867 5309\n",
    "+1 210.867.5309\n",
    "867-5309\n",
    "210-867-5309\n"
   ]
  },
  {
   "cell_type": "code",
   "execution_count": null,
   "id": "bc850f94",
   "metadata": {},
   "outputs": [],
   "source": [
    "# split by (), space, . -"
   ]
  },
  {
   "cell_type": "code",
   "execution_count": 108,
   "id": "037d319a",
   "metadata": {},
   "outputs": [
    {
     "data": {
      "text/plain": [
       "['+1', '(210)', '867', '5309']"
      ]
     },
     "execution_count": 108,
     "metadata": {},
     "output_type": "execute_result"
    }
   ],
   "source": [
    "phone_number = '+1 (210)-867.5309'\n",
    "number_list = re.split(r\"[-. ]\", phone_number)\n",
    "number_list"
   ]
  },
  {
   "cell_type": "code",
   "execution_count": 111,
   "id": "ba8f24f7",
   "metadata": {},
   "outputs": [
    {
     "data": {
      "text/plain": [
       "0       +1\n",
       "1    (210)\n",
       "2      867\n",
       "3     5309\n",
       "dtype: object"
      ]
     },
     "execution_count": 111,
     "metadata": {},
     "output_type": "execute_result"
    }
   ],
   "source": [
    "number_series = pd.Series(number_list)\n",
    "number_series"
   ]
  },
  {
   "cell_type": "code",
   "execution_count": 113,
   "id": "b2c0a410",
   "metadata": {},
   "outputs": [
    {
     "name": "stderr",
     "output_type": "stream",
     "text": [
      "<ipython-input-113-f03801a1ff6e>:1: FutureWarning: The default value of regex will change from True to False in a future version.\n",
      "  phone_numbers = number_series.str.replace(r\"[+()]\", '')\n"
     ]
    },
    {
     "data": {
      "text/plain": [
       "0       1\n",
       "1     210\n",
       "2     867\n",
       "3    5309\n",
       "dtype: object"
      ]
     },
     "execution_count": 113,
     "metadata": {},
     "output_type": "execute_result"
    }
   ],
   "source": [
    "phone_numbers = number_series.str.replace(r\"[+()]\", '')\n",
    "phone_numbers"
   ]
  },
  {
   "cell_type": "code",
   "execution_count": 101,
   "id": "0e9bd020",
   "metadata": {},
   "outputs": [
    {
     "data": {
      "text/plain": [
       "'12108675309'"
      ]
     },
     "execution_count": 101,
     "metadata": {},
     "output_type": "execute_result"
    }
   ],
   "source": [
    "phone_numbers.str.cat()"
   ]
  },
  {
   "cell_type": "code",
   "execution_count": 114,
   "id": "c5a17b35",
   "metadata": {},
   "outputs": [],
   "source": [
    "def is_phone_number(phone_number):\n",
    "    '''\n",
    "    '''\n",
    "    # split string by characters: dash,  period, space\n",
    "    number_list = re.split(r\"[-. ]\", phone_number)\n",
    "    \n",
    "    # Create series from list\n",
    "    number_series = pd.Series(number_list)\n",
    "    \n",
    "    # Remove characters: plus, parentisis\n",
    "    phone_number = number_series.str.replace(r\"[+()]\", '')\n",
    "    \n",
    "    # concat Series to form number and return \n",
    "    phone_number = phone_number.str.cat()\n",
    "    \n",
    "    return phone_number\n",
    "    "
   ]
  },
  {
   "cell_type": "code",
   "execution_count": 121,
   "id": "de1b7dcb",
   "metadata": {},
   "outputs": [
    {
     "name": "stderr",
     "output_type": "stream",
     "text": [
      "<ipython-input-114-7a4c56a8504f>:11: FutureWarning: The default value of regex will change from True to False in a future version.\n",
      "  phone_number = number_series.str.replace(r\"[+()]\", '')\n"
     ]
    },
    {
     "data": {
      "text/plain": [
       "'2108675309'"
      ]
     },
     "execution_count": 121,
     "metadata": {},
     "output_type": "execute_result"
    }
   ],
   "source": [
    "is_phone_number('(210) 867 5309')"
   ]
  },
  {
   "cell_type": "code",
   "execution_count": 122,
   "id": "a8461944",
   "metadata": {},
   "outputs": [
    {
     "name": "stderr",
     "output_type": "stream",
     "text": [
      "<ipython-input-114-7a4c56a8504f>:11: FutureWarning: The default value of regex will change from True to False in a future version.\n",
      "  phone_number = number_series.str.replace(r\"[+()]\", '')\n"
     ]
    },
    {
     "data": {
      "text/plain": [
       "'12108675309'"
      ]
     },
     "execution_count": 122,
     "metadata": {},
     "output_type": "execute_result"
    }
   ],
   "source": [
    "is_phone_number('+1 210.867.5309')"
   ]
  },
  {
   "cell_type": "code",
   "execution_count": 123,
   "id": "a5fdc536",
   "metadata": {},
   "outputs": [
    {
     "name": "stderr",
     "output_type": "stream",
     "text": [
      "<ipython-input-114-7a4c56a8504f>:11: FutureWarning: The default value of regex will change from True to False in a future version.\n",
      "  phone_number = number_series.str.replace(r\"[+()]\", '')\n"
     ]
    },
    {
     "data": {
      "text/plain": [
       "'8675309'"
      ]
     },
     "execution_count": 123,
     "metadata": {},
     "output_type": "execute_result"
    }
   ],
   "source": [
    "is_phone_number('867-5309')"
   ]
  },
  {
   "cell_type": "code",
   "execution_count": 124,
   "id": "0dcb5f27",
   "metadata": {},
   "outputs": [
    {
     "name": "stderr",
     "output_type": "stream",
     "text": [
      "<ipython-input-114-7a4c56a8504f>:11: FutureWarning: The default value of regex will change from True to False in a future version.\n",
      "  phone_number = number_series.str.replace(r\"[+()]\", '')\n"
     ]
    },
    {
     "data": {
      "text/plain": [
       "'2108675309'"
      ]
     },
     "execution_count": 124,
     "metadata": {},
     "output_type": "execute_result"
    }
   ],
   "source": [
    "is_phone_number('210-867-5309')"
   ]
  },
  {
   "cell_type": "code",
   "execution_count": 125,
   "id": "0f527fb9",
   "metadata": {},
   "outputs": [
    {
     "name": "stderr",
     "output_type": "stream",
     "text": [
      "<ipython-input-114-7a4c56a8504f>:11: FutureWarning: The default value of regex will change from True to False in a future version.\n",
      "  phone_number = number_series.str.replace(r\"[+()]\", '')\n"
     ]
    }
   ],
   "source": [
    "assert is_phone_number('(210) 867 5309') == '2108675309'\n",
    "assert is_phone_number('+1 210.867.5309') == '12108675309'\n",
    "assert is_phone_number('867-5309') == '8675309'\n",
    "assert is_phone_number('210-867-5309') == '2108675309'"
   ]
  },
  {
   "cell_type": "markdown",
   "id": "fd543294",
   "metadata": {},
   "source": [
    "4. Use regular expressions to convert the dates below to the standardized year-month-day format\n",
    "\n",
    "02/04/19\n",
    "02/05/19\n",
    "02/06/19\n",
    "02/07/19\n",
    "02/08/19\n",
    "02/09/19\n",
    "02/10/19\n"
   ]
  },
  {
   "cell_type": "code",
   "execution_count": 147,
   "id": "f5f173dd",
   "metadata": {},
   "outputs": [],
   "source": [
    "dates = '''02/04/19\n",
    "02/05/19\n",
    "02/06/19\n",
    "02/07/19\n",
    "02/08/19\n",
    "02/09/19\n",
    "02/10/19'''\n",
    "\n"
   ]
  },
  {
   "cell_type": "code",
   "execution_count": 148,
   "id": "d1e12cb0",
   "metadata": {},
   "outputs": [
    {
     "data": {
      "text/plain": [
       "['02/04/19',\n",
       " '02/05/19',\n",
       " '02/06/19',\n",
       " '02/07/19',\n",
       " '02/08/19',\n",
       " '02/09/19',\n",
       " '02/10/19']"
      ]
     },
     "execution_count": 148,
     "metadata": {},
     "output_type": "execute_result"
    }
   ],
   "source": [
    "dates_list = re.split(r'\\s', dates)\n",
    "dates_list"
   ]
  },
  {
   "cell_type": "code",
   "execution_count": 149,
   "id": "2a63d7f0",
   "metadata": {},
   "outputs": [
    {
     "data": {
      "text/plain": [
       "DatetimeIndex(['2019-02-04', '2019-02-05', '2019-02-06', '2019-02-07',\n",
       "               '2019-02-08', '2019-02-09', '2019-02-10'],\n",
       "              dtype='datetime64[ns]', freq=None)"
      ]
     },
     "execution_count": 149,
     "metadata": {},
     "output_type": "execute_result"
    }
   ],
   "source": [
    "dates = pd.to_datetime(dates_list, format='%m/%d/%y')\n",
    "dates"
   ]
  },
  {
   "cell_type": "code",
   "execution_count": 151,
   "id": "16adb8bb",
   "metadata": {},
   "outputs": [
    {
     "data": {
      "text/plain": [
       "0   2019-02-04\n",
       "1   2019-02-05\n",
       "2   2019-02-06\n",
       "3   2019-02-07\n",
       "4   2019-02-08\n",
       "5   2019-02-09\n",
       "6   2019-02-10\n",
       "dtype: datetime64[ns]"
      ]
     },
     "execution_count": 151,
     "metadata": {},
     "output_type": "execute_result"
    }
   ],
   "source": [
    "dates = pd.Series(dates)\n",
    "dates"
   ]
  },
  {
   "cell_type": "code",
   "execution_count": 153,
   "id": "ca0dbb60",
   "metadata": {},
   "outputs": [
    {
     "data": {
      "text/plain": [
       "0    2019-02-04\n",
       "1    2019-02-05\n",
       "2    2019-02-06\n",
       "3    2019-02-07\n",
       "4    2019-02-08\n",
       "5    2019-02-09\n",
       "6    2019-02-10\n",
       "dtype: object"
      ]
     },
     "execution_count": 153,
     "metadata": {},
     "output_type": "execute_result"
    }
   ],
   "source": [
    "dates = dates.dt.strftime('%Y-%m-%d')\n",
    "dates"
   ]
  },
  {
   "cell_type": "code",
   "execution_count": 154,
   "id": "7ab26d56",
   "metadata": {},
   "outputs": [],
   "source": [
    "def year_month_day(dates):\n",
    "    '''\n",
    "    '''\n",
    "    # split dates by space/enter to create list of dates\n",
    "    dates_list = re.split(r'\\s', dates)\n",
    "    \n",
    "    # turn string into dates\n",
    "    dates = pd.to_datetime(dates_list, format='%m/%d/%y')\n",
    "    \n",
    "    # turn list into series\n",
    "    dates = pd.Series(dates)\n",
    "    \n",
    "    # change format of dates into year-month-day\n",
    "    dates = dates.dt.strftime('%Y-%m-%d')\n",
    "    \n",
    "    return dates"
   ]
  },
  {
   "cell_type": "code",
   "execution_count": 156,
   "id": "ed91f11f",
   "metadata": {},
   "outputs": [
    {
     "data": {
      "text/plain": [
       "0    2015-02-04\n",
       "1    2016-03-05\n",
       "2    2017-04-06\n",
       "3    2018-05-07\n",
       "4    2019-06-08\n",
       "5    2020-07-09\n",
       "6    2021-08-10\n",
       "dtype: object"
      ]
     },
     "execution_count": 156,
     "metadata": {},
     "output_type": "execute_result"
    }
   ],
   "source": [
    "dates = '''02/04/15\n",
    "03/05/16\n",
    "04/06/17\n",
    "05/07/18\n",
    "06/08/19\n",
    "07/09/20\n",
    "08/10/21'''\n",
    "\n",
    "\n",
    "\n",
    "year_month_day(dates)"
   ]
  },
  {
   "cell_type": "markdown",
   "id": "b2fbea89",
   "metadata": {},
   "source": [
    "5. Write a regex to extract the various parts of these logfile lines:\n",
    "\n",
    "GET /api/v1/sales?page=86 [16/Apr/2019:193452+0000] HTTP/1.1 {200} 510348 \"python-requests/2.21.0\" 97.105.19.58\n",
    "POST /users_accounts/file-upload [16/Apr/2019:193452+0000] HTTP/1.1 {201} 42 \"User-Agent: Mozilla/5.0 (X11; Fedora; Fedora; Linux x86_64) AppleWebKit/537.36 (KHTML, like Gecko) Chrome/73.0.3683.86 Safari/537.36\" 97.105.19.58\n",
    "GET /api/v1/items?page=3 [16/Apr/2019:193453+0000] HTTP/1.1 {429} 3561 \"python-requests/2.21.0\" 97.105.19.58\n"
   ]
  },
  {
   "cell_type": "code",
   "execution_count": null,
   "id": "e7b4c8f9",
   "metadata": {},
   "outputs": [],
   "source": []
  },
  {
   "cell_type": "markdown",
   "id": "c6b5fa92",
   "metadata": {},
   "source": [
    "### Bonus Exercise\n",
    "You can find a list of words on your mac at /usr/share/dict/words. Use this file to answer the following questions:\n",
    "\n",
    "- How many words have at least 3 vowels?\n",
    "- How many words have at least 3 vowels in a row?\n",
    "- How many words have at least 4 consonants in a row?\n",
    "- How many words start and end with the same letter?\n",
    "- How many words start and end with a vowel?\n",
    "- How many words contain the same letter 3 times in a row?\n",
    "- What other interesting patterns in words can you find?"
   ]
  },
  {
   "cell_type": "markdown",
   "id": "c3018596",
   "metadata": {},
   "source": []
  }
 ],
 "metadata": {
  "kernelspec": {
   "display_name": "Python 3",
   "language": "python",
   "name": "python3"
  },
  "language_info": {
   "codemirror_mode": {
    "name": "ipython",
    "version": 3
   },
   "file_extension": ".py",
   "mimetype": "text/x-python",
   "name": "python",
   "nbconvert_exporter": "python",
   "pygments_lexer": "ipython3",
   "version": "3.8.8"
  }
 },
 "nbformat": 4,
 "nbformat_minor": 5
}
