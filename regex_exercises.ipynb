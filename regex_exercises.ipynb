{
 "cells": [
  {
   "cell_type": "markdown",
   "id": "9a6d008c",
   "metadata": {},
   "source": [
    "# Regex Exercises"
   ]
  },
  {
   "cell_type": "code",
   "execution_count": 1,
   "id": "e5a6f59f",
   "metadata": {},
   "outputs": [],
   "source": [
    "import pandas as pd\n",
    "import numpy as np\n",
    "import re"
   ]
  },
  {
   "cell_type": "markdown",
   "id": "bbfe3c54",
   "metadata": {},
   "source": [
    "1. Write a function named is_vowel. It should accept a string as input and use a regular expression to determine if the passed string is a vowel. While not explicity mentioned in the lesson, you can treat the result of re.search as a boolean value that indicates whether or not the regular expression matches the given string."
   ]
  },
  {
   "cell_type": "code",
   "execution_count": 2,
   "id": "bf719e71",
   "metadata": {
    "scrolled": true
   },
   "outputs": [],
   "source": [
    "string = 'b'\n",
    "re.search(r\"^[aeiou]{1}$\", string, re.IGNORECASE)"
   ]
  },
  {
   "cell_type": "code",
   "execution_count": 3,
   "id": "ea807fbd",
   "metadata": {},
   "outputs": [],
   "source": [
    "match = re.search(r\"^[aeiou]{1}$\", string, re.IGNORECASE)\n",
    "match"
   ]
  },
  {
   "cell_type": "code",
   "execution_count": 4,
   "id": "3f808a24",
   "metadata": {},
   "outputs": [
    {
     "data": {
      "text/plain": [
       "False"
      ]
     },
     "execution_count": 4,
     "metadata": {},
     "output_type": "execute_result"
    }
   ],
   "source": [
    "bool(re.search(r\"^[aeiou]{1}$\", string, re.IGNORECASE))"
   ]
  },
  {
   "cell_type": "code",
   "execution_count": 5,
   "id": "7b235c4a",
   "metadata": {},
   "outputs": [],
   "source": [
    "# re.search looking for a single vowel and return true\n",
    "def is_vowel(str):\n",
    "    '''\n",
    "    '''\n",
    "    return bool(re.search(r\"^[aeiou]{1}$\", string, re.IGNORECASE))"
   ]
  },
  {
   "cell_type": "code",
   "execution_count": 6,
   "id": "32e146a3",
   "metadata": {},
   "outputs": [
    {
     "data": {
      "text/plain": [
       "False"
      ]
     },
     "execution_count": 6,
     "metadata": {},
     "output_type": "execute_result"
    }
   ],
   "source": [
    "is_vowel('adf')"
   ]
  },
  {
   "cell_type": "markdown",
   "id": "67ccbf63",
   "metadata": {},
   "source": [
    "2. Write a function named is_valid_username that accepts a string as input. A valid username \n",
    "- starts with a lowercase letter, \n",
    "- and only consists of lowercase letters, numbers, or the _ character.\n",
    "- It should also be no longer than 32 characters. \n",
    "- The function should return either True or False depending on whether the passed string is a valid username.\n",
    "\n",
    ">>> is_valid_username('aaaaaaaaaaaaaaaaaaaaaaaaaaaaaaaaa')\n",
    "False\n",
    ">>> is_valid_username('codeup')\n",
    "True\n",
    ">>> is_valid_username('Codeup')\n",
    "False\n",
    ">>> is_valid_username('codeup123')\n",
    "True\n",
    ">>> is_valid_username('1codeup')\n",
    "False\n"
   ]
  },
  {
   "cell_type": "code",
   "execution_count": 7,
   "id": "098e48e1",
   "metadata": {},
   "outputs": [
    {
     "data": {
      "text/plain": [
       "<re.Match object; span=(0, 30), match='a23456789012345678901234567890'>"
      ]
     },
     "execution_count": 7,
     "metadata": {},
     "output_type": "execute_result"
    }
   ],
   "source": [
    "s = 'a23456789012345678901234567890'\n",
    "\n",
    "username = r\"^[a-z][a-z0-9_]{,31}$\"\n",
    "\n",
    "re.search(username, s)"
   ]
  },
  {
   "cell_type": "code",
   "execution_count": 8,
   "id": "9b14e1b6",
   "metadata": {},
   "outputs": [],
   "source": [
    "def is_valid_username(username):\n",
    "    '''\n",
    "    This function takes a username string and checks for format requirements\n",
    "    first character is lower letter\n",
    "    Next 31 characters are lowercase letter, number, or underscore\n",
    "    '''\n",
    "    pattern = r\"^[a-z][a-z0-9_]{,31}$\"\n",
    "    return bool(re.search(pattern, username))"
   ]
  },
  {
   "cell_type": "code",
   "execution_count": 9,
   "id": "87b6097d",
   "metadata": {},
   "outputs": [
    {
     "data": {
      "text/plain": [
       "False"
      ]
     },
     "execution_count": 9,
     "metadata": {},
     "output_type": "execute_result"
    }
   ],
   "source": [
    "is_valid_username('a23456789012345678901234567890123')"
   ]
  },
  {
   "cell_type": "code",
   "execution_count": 10,
   "id": "6b778760",
   "metadata": {},
   "outputs": [],
   "source": [
    "# test function\n",
    "assert is_valid_username('aaaaaaaaaaaaaaaaaaaaaaaaaaaaaaaaa') == False\n",
    "assert is_valid_username('codeup') == True\n",
    "assert is_valid_username('Codeup') == False\n",
    "assert is_valid_username('codeup123') == True\n",
    "assert is_valid_username('1codeup')== False"
   ]
  },
  {
   "cell_type": "markdown",
   "id": "042f5159",
   "metadata": {},
   "source": [
    "3. Write a regular expression to capture phone numbers. It should match all of the following:\n",
    "\n",
    "(210) 867 5309\n",
    "+1 210.867.5309\n",
    "867-5309\n",
    "210-867-5309\n"
   ]
  },
  {
   "cell_type": "code",
   "execution_count": 11,
   "id": "bc850f94",
   "metadata": {},
   "outputs": [],
   "source": [
    "# split by (), space, . -"
   ]
  },
  {
   "cell_type": "code",
   "execution_count": 12,
   "id": "037d319a",
   "metadata": {},
   "outputs": [
    {
     "data": {
      "text/plain": [
       "['+1', '(210)', '867', '5309']"
      ]
     },
     "execution_count": 12,
     "metadata": {},
     "output_type": "execute_result"
    }
   ],
   "source": [
    "phone_number = '+1 (210)-867.5309'\n",
    "number_list = re.split(r\"[-. ]\", phone_number)\n",
    "number_list"
   ]
  },
  {
   "cell_type": "code",
   "execution_count": 13,
   "id": "ba8f24f7",
   "metadata": {},
   "outputs": [
    {
     "data": {
      "text/plain": [
       "0       +1\n",
       "1    (210)\n",
       "2      867\n",
       "3     5309\n",
       "dtype: object"
      ]
     },
     "execution_count": 13,
     "metadata": {},
     "output_type": "execute_result"
    }
   ],
   "source": [
    "number_series = pd.Series(number_list)\n",
    "number_series"
   ]
  },
  {
   "cell_type": "code",
   "execution_count": 14,
   "id": "b2c0a410",
   "metadata": {},
   "outputs": [
    {
     "name": "stderr",
     "output_type": "stream",
     "text": [
      "<ipython-input-14-f03801a1ff6e>:1: FutureWarning: The default value of regex will change from True to False in a future version.\n",
      "  phone_numbers = number_series.str.replace(r\"[+()]\", '')\n"
     ]
    },
    {
     "data": {
      "text/plain": [
       "0       1\n",
       "1     210\n",
       "2     867\n",
       "3    5309\n",
       "dtype: object"
      ]
     },
     "execution_count": 14,
     "metadata": {},
     "output_type": "execute_result"
    }
   ],
   "source": [
    "phone_numbers = number_series.str.replace(r\"[+()]\", '')\n",
    "phone_numbers"
   ]
  },
  {
   "cell_type": "code",
   "execution_count": 15,
   "id": "0e9bd020",
   "metadata": {},
   "outputs": [
    {
     "data": {
      "text/plain": [
       "'12108675309'"
      ]
     },
     "execution_count": 15,
     "metadata": {},
     "output_type": "execute_result"
    }
   ],
   "source": [
    "phone_numbers.str.cat()"
   ]
  },
  {
   "cell_type": "code",
   "execution_count": 16,
   "id": "c5a17b35",
   "metadata": {},
   "outputs": [],
   "source": [
    "def is_phone_number(phone_number):\n",
    "    '''\n",
    "    '''\n",
    "    # split string by characters: dash,  period, space\n",
    "    number_list = re.split(r\"[-. ]\", phone_number)\n",
    "    \n",
    "    # Create series from list\n",
    "    number_series = pd.Series(number_list)\n",
    "    \n",
    "    # Remove characters: plus, parentisis\n",
    "    phone_number = number_series.str.replace(r\"[+()]\", '')\n",
    "    \n",
    "    # concat Series to form number and return \n",
    "    phone_number = phone_number.str.cat()\n",
    "    \n",
    "    return phone_number\n",
    "    "
   ]
  },
  {
   "cell_type": "code",
   "execution_count": 17,
   "id": "de1b7dcb",
   "metadata": {},
   "outputs": [
    {
     "name": "stderr",
     "output_type": "stream",
     "text": [
      "<ipython-input-16-7a4c56a8504f>:11: FutureWarning: The default value of regex will change from True to False in a future version.\n",
      "  phone_number = number_series.str.replace(r\"[+()]\", '')\n"
     ]
    },
    {
     "data": {
      "text/plain": [
       "'2108675309'"
      ]
     },
     "execution_count": 17,
     "metadata": {},
     "output_type": "execute_result"
    }
   ],
   "source": [
    "is_phone_number('(210) 867 5309')"
   ]
  },
  {
   "cell_type": "code",
   "execution_count": 18,
   "id": "a8461944",
   "metadata": {},
   "outputs": [
    {
     "name": "stderr",
     "output_type": "stream",
     "text": [
      "<ipython-input-16-7a4c56a8504f>:11: FutureWarning: The default value of regex will change from True to False in a future version.\n",
      "  phone_number = number_series.str.replace(r\"[+()]\", '')\n"
     ]
    },
    {
     "data": {
      "text/plain": [
       "'12108675309'"
      ]
     },
     "execution_count": 18,
     "metadata": {},
     "output_type": "execute_result"
    }
   ],
   "source": [
    "is_phone_number('+1 210.867.5309')"
   ]
  },
  {
   "cell_type": "code",
   "execution_count": 19,
   "id": "a5fdc536",
   "metadata": {},
   "outputs": [
    {
     "name": "stderr",
     "output_type": "stream",
     "text": [
      "<ipython-input-16-7a4c56a8504f>:11: FutureWarning: The default value of regex will change from True to False in a future version.\n",
      "  phone_number = number_series.str.replace(r\"[+()]\", '')\n"
     ]
    },
    {
     "data": {
      "text/plain": [
       "'8675309'"
      ]
     },
     "execution_count": 19,
     "metadata": {},
     "output_type": "execute_result"
    }
   ],
   "source": [
    "is_phone_number('867-5309')"
   ]
  },
  {
   "cell_type": "code",
   "execution_count": 20,
   "id": "0dcb5f27",
   "metadata": {},
   "outputs": [
    {
     "name": "stderr",
     "output_type": "stream",
     "text": [
      "<ipython-input-16-7a4c56a8504f>:11: FutureWarning: The default value of regex will change from True to False in a future version.\n",
      "  phone_number = number_series.str.replace(r\"[+()]\", '')\n"
     ]
    },
    {
     "data": {
      "text/plain": [
       "'2108675309'"
      ]
     },
     "execution_count": 20,
     "metadata": {},
     "output_type": "execute_result"
    }
   ],
   "source": [
    "is_phone_number('210-867-5309')"
   ]
  },
  {
   "cell_type": "code",
   "execution_count": 21,
   "id": "0f527fb9",
   "metadata": {},
   "outputs": [
    {
     "name": "stderr",
     "output_type": "stream",
     "text": [
      "<ipython-input-16-7a4c56a8504f>:11: FutureWarning: The default value of regex will change from True to False in a future version.\n",
      "  phone_number = number_series.str.replace(r\"[+()]\", '')\n"
     ]
    }
   ],
   "source": [
    "assert is_phone_number('(210) 867 5309') == '2108675309'\n",
    "assert is_phone_number('+1 210.867.5309') == '12108675309'\n",
    "assert is_phone_number('867-5309') == '8675309'\n",
    "assert is_phone_number('210-867-5309') == '2108675309'"
   ]
  },
  {
   "cell_type": "markdown",
   "id": "fd543294",
   "metadata": {},
   "source": [
    "4. Use regular expressions to convert the dates below to the standardized year-month-day format\n",
    "\n",
    "02/04/19\n",
    "02/05/19\n",
    "02/06/19\n",
    "02/07/19\n",
    "02/08/19\n",
    "02/09/19\n",
    "02/10/19\n"
   ]
  },
  {
   "cell_type": "code",
   "execution_count": 22,
   "id": "f5f173dd",
   "metadata": {},
   "outputs": [],
   "source": [
    "dates = '''02/04/19\n",
    "02/05/19\n",
    "02/06/19\n",
    "02/07/19\n",
    "02/08/19\n",
    "02/09/19\n",
    "02/10/19'''\n",
    "\n"
   ]
  },
  {
   "cell_type": "code",
   "execution_count": 23,
   "id": "d1e12cb0",
   "metadata": {},
   "outputs": [
    {
     "data": {
      "text/plain": [
       "['02/04/19',\n",
       " '02/05/19',\n",
       " '02/06/19',\n",
       " '02/07/19',\n",
       " '02/08/19',\n",
       " '02/09/19',\n",
       " '02/10/19']"
      ]
     },
     "execution_count": 23,
     "metadata": {},
     "output_type": "execute_result"
    }
   ],
   "source": [
    "dates_list = re.split(r'\\s', dates)\n",
    "dates_list"
   ]
  },
  {
   "cell_type": "code",
   "execution_count": 24,
   "id": "2a63d7f0",
   "metadata": {},
   "outputs": [
    {
     "data": {
      "text/plain": [
       "DatetimeIndex(['2019-02-04', '2019-02-05', '2019-02-06', '2019-02-07',\n",
       "               '2019-02-08', '2019-02-09', '2019-02-10'],\n",
       "              dtype='datetime64[ns]', freq=None)"
      ]
     },
     "execution_count": 24,
     "metadata": {},
     "output_type": "execute_result"
    }
   ],
   "source": [
    "dates = pd.to_datetime(dates_list, format='%m/%d/%y')\n",
    "dates"
   ]
  },
  {
   "cell_type": "code",
   "execution_count": 25,
   "id": "16adb8bb",
   "metadata": {},
   "outputs": [
    {
     "data": {
      "text/plain": [
       "0   2019-02-04\n",
       "1   2019-02-05\n",
       "2   2019-02-06\n",
       "3   2019-02-07\n",
       "4   2019-02-08\n",
       "5   2019-02-09\n",
       "6   2019-02-10\n",
       "dtype: datetime64[ns]"
      ]
     },
     "execution_count": 25,
     "metadata": {},
     "output_type": "execute_result"
    }
   ],
   "source": [
    "dates = pd.Series(dates)\n",
    "dates"
   ]
  },
  {
   "cell_type": "code",
   "execution_count": 26,
   "id": "ca0dbb60",
   "metadata": {},
   "outputs": [
    {
     "data": {
      "text/plain": [
       "0    2019-02-04\n",
       "1    2019-02-05\n",
       "2    2019-02-06\n",
       "3    2019-02-07\n",
       "4    2019-02-08\n",
       "5    2019-02-09\n",
       "6    2019-02-10\n",
       "dtype: object"
      ]
     },
     "execution_count": 26,
     "metadata": {},
     "output_type": "execute_result"
    }
   ],
   "source": [
    "dates = dates.dt.strftime('%Y-%m-%d')\n",
    "dates"
   ]
  },
  {
   "cell_type": "code",
   "execution_count": 27,
   "id": "7ab26d56",
   "metadata": {},
   "outputs": [],
   "source": [
    "def year_month_day(dates):\n",
    "    '''\n",
    "    '''\n",
    "    # split dates by space/enter to create list of dates\n",
    "    dates_list = re.split(r'\\s', dates)\n",
    "    \n",
    "    # turn string into dates\n",
    "    dates = pd.to_datetime(dates_list, format='%m/%d/%y')\n",
    "    \n",
    "    # turn list into series\n",
    "    dates = pd.Series(dates)\n",
    "    \n",
    "    # change format of dates into year-month-day\n",
    "    dates = dates.dt.strftime('%Y-%m-%d')\n",
    "    \n",
    "    return dates"
   ]
  },
  {
   "cell_type": "code",
   "execution_count": 28,
   "id": "ed91f11f",
   "metadata": {},
   "outputs": [
    {
     "data": {
      "text/plain": [
       "0    2015-02-04\n",
       "1    2016-03-05\n",
       "2    2017-04-06\n",
       "3    2018-05-07\n",
       "4    2019-06-08\n",
       "5    2020-07-09\n",
       "6    2021-08-10\n",
       "dtype: object"
      ]
     },
     "execution_count": 28,
     "metadata": {},
     "output_type": "execute_result"
    }
   ],
   "source": [
    "dates = '''02/04/15\n",
    "03/05/16\n",
    "04/06/17\n",
    "05/07/18\n",
    "06/08/19\n",
    "07/09/20\n",
    "08/10/21'''\n",
    "\n",
    "\n",
    "\n",
    "year_month_day(dates)"
   ]
  },
  {
   "cell_type": "markdown",
   "id": "b2fbea89",
   "metadata": {},
   "source": [
    "5. Write a regex to extract the various parts of these logfile lines:\n",
    "\n",
    "GET /api/v1/sales?page=86 [16/Apr/2019:193452+0000] HTTP/1.1 {200} 510348 \"python-requests/2.21.0\" 97.105.19.58\n",
    "POST /users_accounts/file-upload [16/Apr/2019:193452+0000] HTTP/1.1 {201} 42 \"User-Agent: Mozilla/5.0 (X11; Fedora; Fedora; Linux x86_64) AppleWebKit/537.36 (KHTML, like Gecko) Chrome/73.0.3683.86 Safari/537.36\" 97.105.19.58\n",
    "GET /api/v1/items?page=3 [16/Apr/2019:193453+0000] HTTP/1.1 {429} 3561 \"python-requests/2.21.0\" 97.105.19.58\n"
   ]
  },
  {
   "cell_type": "code",
   "execution_count": 29,
   "id": "e7b4c8f9",
   "metadata": {},
   "outputs": [],
   "source": [
    "log = 'GET /api/v1/sales?page=86 [16/Apr/2019:193452+0000] HTTP/1.1 {200} 510348 \"python-requests/2.21.0\" 97.105.19.58 POST /users_accounts/file-upload [16/Apr/2019:193452+0000] HTTP/1.1 {201} 42 \"User-Agent: Mozilla/5.0 (X11; Fedora; Fedora; Linux x86_64) AppleWebKit/537.36 (KHTML, like Gecko) Chrome/73.0.3683.86 Safari/537.36\" 97.105.19.58 GET /api/v1/items?page=3 [16/Apr/2019:193453+0000] HTTP/1.1 {429} 3561 \"python-requests/2.21.0\" 97.105.19.58'"
   ]
  },
  {
   "cell_type": "code",
   "execution_count": 70,
   "id": "eb36ecec",
   "metadata": {},
   "outputs": [
    {
     "data": {
      "text/plain": [
       "['GET',\n",
       " '/api/v1/sales?page=86',\n",
       " '[16/Apr/2019:193452+0000]',\n",
       " 'HTTP/1.1',\n",
       " '{200}',\n",
       " '510348',\n",
       " '\"python-requests/2.21.0\"',\n",
       " '97.105.19.58',\n",
       " 'POST',\n",
       " '/users_accounts/file-upload',\n",
       " '[16/Apr/2019:193452+0000]',\n",
       " 'HTTP/1.1',\n",
       " '{201}',\n",
       " '42',\n",
       " '\"User-Agent:',\n",
       " 'Mozilla/5.0',\n",
       " '(X11;',\n",
       " 'Fedora;',\n",
       " 'Fedora;',\n",
       " 'Linux',\n",
       " 'x86_64)',\n",
       " 'AppleWebKit/537.36',\n",
       " '(KHTML,',\n",
       " 'like',\n",
       " 'Gecko)',\n",
       " 'Chrome/73.0.3683.86',\n",
       " 'Safari/537.36\"',\n",
       " '97.105.19.58',\n",
       " 'GET',\n",
       " '/api/v1/items?page=3',\n",
       " '[16/Apr/2019:193453+0000]',\n",
       " 'HTTP/1.1',\n",
       " '{429}',\n",
       " '3561',\n",
       " '\"python-requests/2.21.0\"',\n",
       " '97.105.19.58']"
      ]
     },
     "execution_count": 70,
     "metadata": {},
     "output_type": "execute_result"
    }
   ],
   "source": [
    "log_split = re.split(' ', log)\n",
    "log_split"
   ]
  },
  {
   "cell_type": "code",
   "execution_count": 71,
   "id": "8ff556f4",
   "metadata": {},
   "outputs": [
    {
     "data": {
      "text/plain": [
       "0                             GET\n",
       "1           /api/v1/sales?page=86\n",
       "2       [16/Apr/2019:193452+0000]\n",
       "3                        HTTP/1.1\n",
       "4                           {200}\n",
       "5                          510348\n",
       "6        \"python-requests/2.21.0\"\n",
       "7                    97.105.19.58\n",
       "8                            POST\n",
       "9     /users_accounts/file-upload\n",
       "10      [16/Apr/2019:193452+0000]\n",
       "11                       HTTP/1.1\n",
       "12                          {201}\n",
       "13                             42\n",
       "14                   \"User-Agent:\n",
       "15                    Mozilla/5.0\n",
       "16                          (X11;\n",
       "17                        Fedora;\n",
       "18                        Fedora;\n",
       "19                          Linux\n",
       "20                        x86_64)\n",
       "21             AppleWebKit/537.36\n",
       "22                        (KHTML,\n",
       "23                           like\n",
       "24                         Gecko)\n",
       "25            Chrome/73.0.3683.86\n",
       "26                 Safari/537.36\"\n",
       "27                   97.105.19.58\n",
       "28                            GET\n",
       "29           /api/v1/items?page=3\n",
       "30      [16/Apr/2019:193453+0000]\n",
       "31                       HTTP/1.1\n",
       "32                          {429}\n",
       "33                           3561\n",
       "34       \"python-requests/2.21.0\"\n",
       "35                   97.105.19.58\n",
       "dtype: object"
      ]
     },
     "execution_count": 71,
     "metadata": {},
     "output_type": "execute_result"
    }
   ],
   "source": [
    "log_series = pd.Series(log_split)\n",
    "log_series"
   ]
  },
  {
   "cell_type": "code",
   "execution_count": 67,
   "id": "36259298",
   "metadata": {},
   "outputs": [
    {
     "ename": "TypeError",
     "evalue": "expected string or bytes-like object",
     "output_type": "error",
     "traceback": [
      "\u001b[0;31m---------------------------------------------------------------------------\u001b[0m",
      "\u001b[0;31mTypeError\u001b[0m                                 Traceback (most recent call last)",
      "\u001b[0;32m<ipython-input-67-48427ec2ebb3>\u001b[0m in \u001b[0;36m<module>\u001b[0;34m\u001b[0m\n\u001b[0;32m----> 1\u001b[0;31m \u001b[0mre\u001b[0m\u001b[0;34m.\u001b[0m\u001b[0msearch\u001b[0m\u001b[0;34m(\u001b[0m\u001b[0;34mr\"/.* \"\u001b[0m\u001b[0;34m,\u001b[0m\u001b[0mlog_series\u001b[0m\u001b[0;34m)\u001b[0m\u001b[0;34m\u001b[0m\u001b[0;34m\u001b[0m\u001b[0m\n\u001b[0m",
      "\u001b[0;32m/usr/local/anaconda3/lib/python3.8/re.py\u001b[0m in \u001b[0;36msearch\u001b[0;34m(pattern, string, flags)\u001b[0m\n\u001b[1;32m    199\u001b[0m     \"\"\"Scan through string looking for a match to the pattern, returning\n\u001b[1;32m    200\u001b[0m     a Match object, or None if no match was found.\"\"\"\n\u001b[0;32m--> 201\u001b[0;31m     \u001b[0;32mreturn\u001b[0m \u001b[0m_compile\u001b[0m\u001b[0;34m(\u001b[0m\u001b[0mpattern\u001b[0m\u001b[0;34m,\u001b[0m \u001b[0mflags\u001b[0m\u001b[0;34m)\u001b[0m\u001b[0;34m.\u001b[0m\u001b[0msearch\u001b[0m\u001b[0;34m(\u001b[0m\u001b[0mstring\u001b[0m\u001b[0;34m)\u001b[0m\u001b[0;34m\u001b[0m\u001b[0;34m\u001b[0m\u001b[0m\n\u001b[0m\u001b[1;32m    202\u001b[0m \u001b[0;34m\u001b[0m\u001b[0m\n\u001b[1;32m    203\u001b[0m \u001b[0;32mdef\u001b[0m \u001b[0msub\u001b[0m\u001b[0;34m(\u001b[0m\u001b[0mpattern\u001b[0m\u001b[0;34m,\u001b[0m \u001b[0mrepl\u001b[0m\u001b[0;34m,\u001b[0m \u001b[0mstring\u001b[0m\u001b[0;34m,\u001b[0m \u001b[0mcount\u001b[0m\u001b[0;34m=\u001b[0m\u001b[0;36m0\u001b[0m\u001b[0;34m,\u001b[0m \u001b[0mflags\u001b[0m\u001b[0;34m=\u001b[0m\u001b[0;36m0\u001b[0m\u001b[0;34m)\u001b[0m\u001b[0;34m:\u001b[0m\u001b[0;34m\u001b[0m\u001b[0;34m\u001b[0m\u001b[0m\n",
      "\u001b[0;31mTypeError\u001b[0m: expected string or bytes-like object"
     ]
    }
   ],
   "source": [
    "re.search(r\"/.* \",log_series)"
   ]
  },
  {
   "cell_type": "code",
   "execution_count": 58,
   "id": "ea74e13f",
   "metadata": {},
   "outputs": [
    {
     "ename": "TypeError",
     "evalue": "cannot unpack non-iterable NoneType object",
     "output_type": "error",
     "traceback": [
      "\u001b[0;31m---------------------------------------------------------------------------\u001b[0m",
      "\u001b[0;31mTypeError\u001b[0m                                 Traceback (most recent call last)",
      "\u001b[0;32m<ipython-input-58-20c3930dced8>\u001b[0m in \u001b[0;36m<module>\u001b[0;34m\u001b[0m\n\u001b[0;32m----> 1\u001b[0;31m \u001b[0mget_path\u001b[0m\u001b[0;34m,\u001b[0m \u001b[0mget_time\u001b[0m \u001b[0;34m=\u001b[0m \u001b[0mre\u001b[0m\u001b[0;34m.\u001b[0m\u001b[0msearch\u001b[0m\u001b[0;34m(\u001b[0m\u001b[0;34mr\"(GET.*)\\s(\\[.*]$)\"\u001b[0m\u001b[0;34m,\u001b[0m \u001b[0mlog\u001b[0m\u001b[0;34m)\u001b[0m\u001b[0;34m\u001b[0m\u001b[0;34m\u001b[0m\u001b[0m\n\u001b[0m\u001b[1;32m      2\u001b[0m \u001b[0mget_path\u001b[0m\u001b[0;34m,\u001b[0m \u001b[0mget_time\u001b[0m\u001b[0;34m\u001b[0m\u001b[0;34m\u001b[0m\u001b[0m\n",
      "\u001b[0;31mTypeError\u001b[0m: cannot unpack non-iterable NoneType object"
     ]
    }
   ],
   "source": [
    "get_path, get_time = re.search(r\"(GET.*)\\s(\\[.*]$)\", log)\n",
    "get_path, get_time"
   ]
  },
  {
   "cell_type": "markdown",
   "id": "c6b5fa92",
   "metadata": {},
   "source": [
    "### Bonus Exercise\n",
    "You can find a list of words on your mac at /usr/share/dict/words. Use this file to answer the following questions:\n",
    "\n",
    "- How many words have at least 3 vowels?\n",
    "- How many words have at least 3 vowels in a row?\n",
    "- How many words have at least 4 consonants in a row?\n",
    "- How many words start and end with the same letter?\n",
    "- How many words start and end with a vowel?\n",
    "- How many words contain the same letter 3 times in a row?\n",
    "- What other interesting patterns in words can you find?"
   ]
  },
  {
   "cell_type": "markdown",
   "id": "c3018596",
   "metadata": {},
   "source": []
  }
 ],
 "metadata": {
  "kernelspec": {
   "display_name": "Python 3",
   "language": "python",
   "name": "python3"
  },
  "language_info": {
   "codemirror_mode": {
    "name": "ipython",
    "version": 3
   },
   "file_extension": ".py",
   "mimetype": "text/x-python",
   "name": "python",
   "nbconvert_exporter": "python",
   "pygments_lexer": "ipython3",
   "version": "3.8.8"
  }
 },
 "nbformat": 4,
 "nbformat_minor": 5
}
